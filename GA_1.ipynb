{
 "cells": [
  {
   "cell_type": "code",
   "execution_count": 19,
   "metadata": {},
   "outputs": [],
   "source": [
    "import numpy as np \n",
    "import pandas as pd  "
   ]
  },
  {
   "cell_type": "code",
   "execution_count": 20,
   "metadata": {},
   "outputs": [],
   "source": [
    "data = {\n",
    "    \"Activity\": list(range(1, 28)),\n",
    "    \"Activity Time (mins)\": [6, 10, 7, 12, 18, 8, 19, 6, 18, 15, 14, 19, 15, 9, 12, 5, 12, 11, 8, 12, 8, 17, 12, 8, 7, 12, 11],\n",
    "    \"Preceding Activities\": [\n",
    "        None, None, None, None, None, \"1,3\", \"2,4\", \"3,5\", \"2\", \"8,9\", \"6,10\", \"7,8,11\", \"11,12\", \"13\", \"14\", \"6,11,14\",\n",
    "        \"16\", \"16\", \"16\", \"17,19\", \"17,18\", \"20,21\", \"19,20\", \"14,22\", \"13,15\", \"3,4\", \"25,26\"\n",
    "    ]\n",
    "}"
   ]
  },
  {
   "cell_type": "code",
   "execution_count": 21,
   "metadata": {},
   "outputs": [],
   "source": [
    "df = pd.DataFrame(data)"
   ]
  },
  {
   "cell_type": "code",
   "execution_count": 22,
   "metadata": {},
   "outputs": [
    {
     "data": {
      "text/html": [
       "<div>\n",
       "<style scoped>\n",
       "    .dataframe tbody tr th:only-of-type {\n",
       "        vertical-align: middle;\n",
       "    }\n",
       "\n",
       "    .dataframe tbody tr th {\n",
       "        vertical-align: top;\n",
       "    }\n",
       "\n",
       "    .dataframe thead th {\n",
       "        text-align: right;\n",
       "    }\n",
       "</style>\n",
       "<table border=\"1\" class=\"dataframe\">\n",
       "  <thead>\n",
       "    <tr style=\"text-align: right;\">\n",
       "      <th></th>\n",
       "      <th>Activity</th>\n",
       "      <th>Activity Time (mins)</th>\n",
       "      <th>Preceding Activities</th>\n",
       "    </tr>\n",
       "  </thead>\n",
       "  <tbody>\n",
       "    <tr>\n",
       "      <th>0</th>\n",
       "      <td>1</td>\n",
       "      <td>6</td>\n",
       "      <td>[]</td>\n",
       "    </tr>\n",
       "    <tr>\n",
       "      <th>1</th>\n",
       "      <td>2</td>\n",
       "      <td>10</td>\n",
       "      <td>[]</td>\n",
       "    </tr>\n",
       "    <tr>\n",
       "      <th>2</th>\n",
       "      <td>3</td>\n",
       "      <td>7</td>\n",
       "      <td>[]</td>\n",
       "    </tr>\n",
       "    <tr>\n",
       "      <th>3</th>\n",
       "      <td>4</td>\n",
       "      <td>12</td>\n",
       "      <td>[]</td>\n",
       "    </tr>\n",
       "    <tr>\n",
       "      <th>4</th>\n",
       "      <td>5</td>\n",
       "      <td>18</td>\n",
       "      <td>[]</td>\n",
       "    </tr>\n",
       "  </tbody>\n",
       "</table>\n",
       "</div>"
      ],
      "text/plain": [
       "   Activity  Activity Time (mins) Preceding Activities\n",
       "0         1                     6                   []\n",
       "1         2                    10                   []\n",
       "2         3                     7                   []\n",
       "3         4                    12                   []\n",
       "4         5                    18                   []"
      ]
     },
     "execution_count": 22,
     "metadata": {},
     "output_type": "execute_result"
    }
   ],
   "source": [
    "df[\"Preceding Activities\"] = df[\"Preceding Activities\"].apply(lambda x: [] if pd.isna(x) else [int(i) for i in str(x).split(\",\")])\n",
    "\n",
    "df.head()"
   ]
  },
  {
   "cell_type": "markdown",
   "metadata": {},
   "source": [
    "# Q1 \n",
    "We need to determine the maximum time assigned to any workstation after optimally distributing activities \n",
    "\n",
    "**Solution Approach**\n",
    "we need to find the workstation with the maximum total assigned time"
   ]
  },
  {
   "cell_type": "code",
   "execution_count": 23,
   "metadata": {},
   "outputs": [
    {
     "name": "stdout",
     "output_type": "stream",
     "text": [
      "Maximum activity time among workstations: 19 minutes\n"
     ]
    }
   ],
   "source": [
    "cycle_time = max(df[\"Activity Time (mins)\"])\n",
    "\n",
    "def assign_workstations(df, cycle_time):\n",
    "    workstations = []\n",
    "    remaining_tasks = df.copy()\n",
    "    \n",
    "    while not remaining_tasks.empty:\n",
    "        workstation = []\n",
    "        total_time = 0\n",
    "        \n",
    "        for i, row in remaining_tasks.iterrows():\n",
    "            if total_time + row[\"Activity Time (mins)\"] <= cycle_time:\n",
    "                workstation.append(row[\"Activity\"])\n",
    "                total_time += row[\"Activity Time (mins)\"]\n",
    "        \n",
    "\n",
    "        workstations.append((workstation, total_time))\n",
    "        \n",
    " \n",
    "        remaining_tasks = remaining_tasks[~remaining_tasks[\"Activity\"].isin(workstations[-1][0])]\n",
    "\n",
    "    \n",
    "    return workstations\n",
    "\n",
    "workstations = assign_workstations(df, cycle_time)\n",
    "\n",
    "\n",
    "max_activity_time = max([wt[1] for wt in workstations])\n",
    "\n",
    "print(f\"Maximum activity time among workstations: {max_activity_time} minutes\")\n"
   ]
  },
  {
   "cell_type": "code",
   "execution_count": null,
   "metadata": {},
   "outputs": [],
   "source": []
  }
 ],
 "metadata": {
  "kernelspec": {
   "display_name": "envi4",
   "language": "python",
   "name": "python3"
  },
  "language_info": {
   "codemirror_mode": {
    "name": "ipython",
    "version": 3
   },
   "file_extension": ".py",
   "mimetype": "text/x-python",
   "name": "python",
   "nbconvert_exporter": "python",
   "pygments_lexer": "ipython3",
   "version": "3.12.3"
  }
 },
 "nbformat": 4,
 "nbformat_minor": 2
}
