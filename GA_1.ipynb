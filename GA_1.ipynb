{
 "cells": [
  {
   "cell_type": "code",
   "execution_count": 19,
   "metadata": {},
   "outputs": [],
   "source": [
    "import numpy as np \n",
    "import pandas as pd  "
   ]
  },
  {
   "cell_type": "code",
   "execution_count": 20,
   "metadata": {},
   "outputs": [],
   "source": [
    "data = {\n",
    "    \"Activity\": list(range(1, 28)),\n",
    "    \"Activity Time (mins)\": [6, 10, 7, 12, 18, 8, 19, 6, 18, 15, 14, 19, 15, 9, 12, 5, 12, 11, 8, 12, 8, 17, 12, 8, 7, 12, 11],\n",
    "    \"Preceding Activities\": [\n",
    "        None, None, None, None, None, \"1,3\", \"2,4\", \"3,5\", \"2\", \"8,9\", \"6,10\", \"7,8,11\", \"11,12\", \"13\", \"14\", \"6,11,14\",\n",
    "        \"16\", \"16\", \"16\", \"17,19\", \"17,18\", \"20,21\", \"19,20\", \"14,22\", \"13,15\", \"3,4\", \"25,26\"\n",
    "    ]\n",
    "}"
   ]
  },
  {
   "cell_type": "code",
   "execution_count": 21,
   "metadata": {},
   "outputs": [],
   "source": [
    "df = pd.DataFrame(data)"
   ]
  },
  {
   "cell_type": "code",
   "execution_count": 22,
   "metadata": {},
   "outputs": [
    {
     "data": {
      "text/html": [
       "<div>\n",
       "<style scoped>\n",
       "    .dataframe tbody tr th:only-of-type {\n",
       "        vertical-align: middle;\n",
       "    }\n",
       "\n",
       "    .dataframe tbody tr th {\n",
       "        vertical-align: top;\n",
       "    }\n",
       "\n",
       "    .dataframe thead th {\n",
       "        text-align: right;\n",
       "    }\n",
       "</style>\n",
       "<table border=\"1\" class=\"dataframe\">\n",
       "  <thead>\n",
       "    <tr style=\"text-align: right;\">\n",
       "      <th></th>\n",
       "      <th>Activity</th>\n",
       "      <th>Activity Time (mins)</th>\n",
       "      <th>Preceding Activities</th>\n",
       "    </tr>\n",
       "  </thead>\n",
       "  <tbody>\n",
       "    <tr>\n",
       "      <th>0</th>\n",
       "      <td>1</td>\n",
       "      <td>6</td>\n",
       "      <td>[]</td>\n",
       "    </tr>\n",
       "    <tr>\n",
       "      <th>1</th>\n",
       "      <td>2</td>\n",
       "      <td>10</td>\n",
       "      <td>[]</td>\n",
       "    </tr>\n",
       "    <tr>\n",
       "      <th>2</th>\n",
       "      <td>3</td>\n",
       "      <td>7</td>\n",
       "      <td>[]</td>\n",
       "    </tr>\n",
       "    <tr>\n",
       "      <th>3</th>\n",
       "      <td>4</td>\n",
       "      <td>12</td>\n",
       "      <td>[]</td>\n",
       "    </tr>\n",
       "    <tr>\n",
       "      <th>4</th>\n",
       "      <td>5</td>\n",
       "      <td>18</td>\n",
       "      <td>[]</td>\n",
       "    </tr>\n",
       "  </tbody>\n",
       "</table>\n",
       "</div>"
      ],
      "text/plain": [
       "   Activity  Activity Time (mins) Preceding Activities\n",
       "0         1                     6                   []\n",
       "1         2                    10                   []\n",
       "2         3                     7                   []\n",
       "3         4                    12                   []\n",
       "4         5                    18                   []"
      ]
     },
     "execution_count": 22,
     "metadata": {},
     "output_type": "execute_result"
    }
   ],
   "source": [
    "df[\"Preceding Activities\"] = df[\"Preceding Activities\"].apply(lambda x: [] if pd.isna(x) else [int(i) for i in str(x).split(\",\")])\n",
    "\n",
    "df.head()"
   ]
  },
  {
   "cell_type": "markdown",
   "metadata": {},
   "source": [
    "# Q1 \n",
    "We need to determine the maximum time assigned to any workstation after optimally distributing activities \n",
    "\n",
    "**Solution Approach**\n",
    "we need to find the workstation with the maximum total assigned time"
   ]
  },
  {
   "cell_type": "code",
   "execution_count": 23,
   "metadata": {},
   "outputs": [
    {
     "name": "stdout",
     "output_type": "stream",
     "text": [
      "Maximum activity time among workstations: 19 minutes\n"
     ]
    }
   ],
   "source": [
    "cycle_time = max(df[\"Activity Time (mins)\"])\n",
    "\n",
    "def assign_workstations(df, cycle_time):\n",
    "    workstations = []\n",
    "    remaining_tasks = df.copy()\n",
    "    \n",
    "    while not remaining_tasks.empty:\n",
    "        workstation = []\n",
    "        total_time = 0\n",
    "        \n",
    "        for i, row in remaining_tasks.iterrows():\n",
    "            if total_time + row[\"Activity Time (mins)\"] <= cycle_time:\n",
    "                workstation.append(row[\"Activity\"])\n",
    "                total_time += row[\"Activity Time (mins)\"]\n",
    "        \n",
    "\n",
    "        workstations.append((workstation, total_time))\n",
    "        \n",
    " \n",
    "        remaining_tasks = remaining_tasks[~remaining_tasks[\"Activity\"].isin(workstations[-1][0])]\n",
    "\n",
    "    \n",
    "    return workstations\n",
    "\n",
    "workstations = assign_workstations(df, cycle_time)\n",
    "\n",
    "\n",
    "max_activity_time = max([wt[1] for wt in workstations])\n",
    "\n",
    "print(f\"Maximum activity time among workstations: {max_activity_time} minutes\")\n"
   ]
  },
  {
   "cell_type": "markdown",
   "metadata": {},
   "source": [
    "# Q2 What is the maximum cycle time in minutes ?\n"
   ]
  },
  {
   "cell_type": "code",
   "execution_count": 24,
   "metadata": {},
   "outputs": [
    {
     "name": "stdout",
     "output_type": "stream",
     "text": [
      "Maximum cycle time: 19 minutes\n"
     ]
    }
   ],
   "source": [
    "max_cycle_time = max(df[\"Activity Time (mins)\"])\n",
    "\n",
    "print(f\"Maximum cycle time: {max_cycle_time} minutes\")\n"
   ]
  },
  {
   "cell_type": "markdown",
   "metadata": {},
   "source": [
    "# Q3 What is the maximum possible output that can be achieved for a week? \n",
    "\n",
    "\n",
    "$Maximum Output = \\frac{Total Available Time per Week}{Cycle Time}$"
   ]
  },
  {
   "cell_type": "code",
   "execution_count": 25,
   "metadata": {},
   "outputs": [
    {
     "name": "stdout",
     "output_type": "stream",
     "text": [
      "Maximum possible output per week: 252 units\n"
     ]
    }
   ],
   "source": [
    "shifts_per_day = 2\n",
    "hours_per_shift = 8\n",
    "minutes_per_hour = 60\n",
    "days_per_week = 5\n",
    "\n",
    "total_available_time = shifts_per_day * hours_per_shift * minutes_per_hour * days_per_week\n",
    "\n",
    "maximum_output_per_week = total_available_time // cycle_time\n",
    "\n",
    "print(f\"Maximum possible output per week: {maximum_output_per_week} units\")\n"
   ]
  },
  {
   "cell_type": "markdown",
   "metadata": {},
   "source": [
    "# Q4 What is the theoretical minimum number of workstations that are required to assign the 50 activities?\n",
    "\n",
    "$Theoretical Minimum Workstation = \\frac{Total Activvity Time}{Cycle Time}$"
   ]
  },
  {
   "cell_type": "code",
   "execution_count": 26,
   "metadata": {},
   "outputs": [
    {
     "name": "stdout",
     "output_type": "stream",
     "text": [
      "Theoretical Minimum Workstations: 17\n"
     ]
    }
   ],
   "source": [
    "total_activity_time = df[\"Activity Time (mins)\"].sum()\n",
    "\n",
    "theoretical_min_workstations = np.ceil(total_activity_time / cycle_time)\n",
    "\n",
    "print(f\"Theoretical Minimum Workstations: {int(theoretical_min_workstations)}\")\n"
   ]
  },
  {
   "cell_type": "markdown",
   "metadata": {},
   "source": [
    "# Q5 How many workstations are actually required as per the optimized assignment?"
   ]
  },
  {
   "cell_type": "code",
   "execution_count": 27,
   "metadata": {},
   "outputs": [
    {
     "name": "stdout",
     "output_type": "stream",
     "text": [
      "Actual Workstations Required: 21\n"
     ]
    }
   ],
   "source": [
    "def assign_workstations(df, cycle_time):\n",
    "    remaining_tasks = df.copy()\n",
    "    workstations = []\n",
    "\n",
    "    while not remaining_tasks.empty:\n",
    "        workstation = []\n",
    "        total_time = 0\n",
    "        available_tasks = remaining_tasks[remaining_tasks[\"Preceding Activities\"].apply(lambda x: all(i not in remaining_tasks[\"Activity\"].values for i in x))]\n",
    "\n",
    "        for _, row in available_tasks.iterrows():\n",
    "            if total_time + row[\"Activity Time (mins)\"] <= cycle_time:\n",
    "                workstation.append(row[\"Activity\"])\n",
    "                total_time += row[\"Activity Time (mins)\"]\n",
    "\n",
    "        workstations.append(workstation)\n",
    "        remaining_tasks = remaining_tasks[~remaining_tasks[\"Activity\"].isin(workstation)]\n",
    "\n",
    "    return workstations\n",
    "\n",
    "\n",
    "workstations = assign_workstations(df, cycle_time)\n",
    "\n",
    "\n",
    "actual_workstations = len(workstations)\n",
    "print(f\"Actual Workstations Required: {actual_workstations}\")\n"
   ]
  },
  {
   "cell_type": "markdown",
   "metadata": {},
   "source": [
    "# Q6 What is the efficiency of the optimized layout?\n",
    "\n",
    "$Efficiency= \\frac{Total Task Time}{Number of Workstation \\times Cycle Time}\\times100$ \n",
    " "
   ]
  },
  {
   "cell_type": "code",
   "execution_count": 29,
   "metadata": {},
   "outputs": [
    {
     "name": "stdout",
     "output_type": "stream",
     "text": [
      "Efficiency of the optimized layout: 77.94%\n"
     ]
    }
   ],
   "source": [
    "total_task_time = df[\"Activity Time (mins)\"].sum()\n",
    "\n",
    "efficiency = (total_task_time / (actual_workstations * cycle_time)) * 100\n",
    "\n",
    "\n",
    "efficiency = round(efficiency, 2)\n",
    "\n",
    "print(f\"Efficiency of the optimized layout: {efficiency}%\")\n"
   ]
  },
  {
   "cell_type": "markdown",
   "metadata": {},
   "source": [
    "# Q7 What is the minimum efficiency of a workstation in the optimized layout?\n",
    "\n",
    "\n",
    "$Workstation Efficiency= \\frac{Total Activity Time in Workstation}{Cycle Time}\\times100$ "
   ]
  },
  {
   "cell_type": "code",
   "execution_count": 33,
   "metadata": {},
   "outputs": [
    {
     "name": "stdout",
     "output_type": "stream",
     "text": [
      "Minimum efficiency of a workstation in the optimized layout: 42.11%\n"
     ]
    }
   ],
   "source": [
    "# print(workstations)\n",
    "\n",
    "\n",
    "workstation_efficiencies = []\n",
    "\n",
    "for ws in workstations:\n",
    "    total_time = sum(df.loc[df[\"Activity\"].isin(ws), \"Activity Time (mins)\"])\n",
    "    efficiency = (total_time / cycle_time) * 100\n",
    "    workstation_efficiencies.append(efficiency)\n",
    "\n",
    "min_efficiency = round(min(workstation_efficiencies), 2)\n",
    "\n",
    "print(f\"Minimum efficiency of a workstation in the optimized layout: {min_efficiency}%\")\n"
   ]
  },
  {
   "cell_type": "markdown",
   "metadata": {},
   "source": [
    "# Q8 How many workstations have the maximum efficiency that is possible for a workstation in the optimized layout (choose all that is applicable)?\n"
   ]
  },
  {
   "cell_type": "code",
   "execution_count": 34,
   "metadata": {},
   "outputs": [],
   "source": [
    "workstation_efficiencies = []\n",
    "\n",
    "for ws in workstations:\n",
    "    total_time = sum(df.loc[df[\"Activity\"].isin(ws), \"Activity Time (mins)\"])\n",
    "    efficiency = (total_time / cycle_time) * 100\n",
    "    workstation_efficiencies.append(efficiency)\n"
   ]
  },
  {
   "cell_type": "code",
   "execution_count": 35,
   "metadata": {},
   "outputs": [],
   "source": [
    "max_efficiency = max(workstation_efficiencies)\n"
   ]
  },
  {
   "cell_type": "code",
   "execution_count": 36,
   "metadata": {},
   "outputs": [
    {
     "name": "stdout",
     "output_type": "stream",
     "text": [
      "Number of workstations with maximum efficiency: 5\n"
     ]
    }
   ],
   "source": [
    "max_eff_count = workstation_efficiencies.count(max_efficiency)\n",
    "\n",
    "print(f\"Number of workstations with maximum efficiency: {max_eff_count}\")\n"
   ]
  },
  {
   "cell_type": "markdown",
   "metadata": {},
   "source": [
    "# Q9 How many workstations have 2 or more assigned activities in the optimized layout? "
   ]
  },
  {
   "cell_type": "code",
   "execution_count": 38,
   "metadata": {},
   "outputs": [
    {
     "name": "stdout",
     "output_type": "stream",
     "text": [
      "Number of workstations with 2 or more assigned activities: 6\n"
     ]
    }
   ],
   "source": [
    "workstations_with_2_or_more = sum(1 for ws in workstations if len(ws) >= 2)\n",
    "\n",
    "print(f\"Number of workstations with 2 or more assigned activities: {workstations_with_2_or_more}\")\n"
   ]
  },
  {
   "cell_type": "markdown",
   "metadata": {},
   "source": [
    "# Q10 How many workstations have only one assigned activity in the optimized layout? \n"
   ]
  },
  {
   "cell_type": "code",
   "execution_count": 39,
   "metadata": {},
   "outputs": [
    {
     "name": "stdout",
     "output_type": "stream",
     "text": [
      "Number of workstations with only one assigned activity: 15\n"
     ]
    }
   ],
   "source": [
    "workstations_with_1_activity = sum(1 for ws in workstations if len(ws) == 1)\n",
    "\n",
    "print(f\"Number of workstations with only one assigned activity: {workstations_with_1_activity}\")\n"
   ]
  },
  {
   "cell_type": "code",
   "execution_count": null,
   "metadata": {},
   "outputs": [],
   "source": []
  }
 ],
 "metadata": {
  "kernelspec": {
   "display_name": "envi4",
   "language": "python",
   "name": "python3"
  },
  "language_info": {
   "codemirror_mode": {
    "name": "ipython",
    "version": 3
   },
   "file_extension": ".py",
   "mimetype": "text/x-python",
   "name": "python",
   "nbconvert_exporter": "python",
   "pygments_lexer": "ipython3",
   "version": "3.12.3"
  }
 },
 "nbformat": 4,
 "nbformat_minor": 2
}
